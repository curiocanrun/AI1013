{
 "cells": [
  {
   "cell_type": "markdown",
   "id": "6d9845e0-b296-4ce5-ad5b-76ebe2f67517",
   "metadata": {},
   "source": [
    "\n",
    "Analyzing the relationship between the neural firing rates and search times to determine whether KL divergence or L1 distance better predicts perception\n",
    "and whether search delays follows a distribution, more specifically, gamma distribution.\n"
   ]
  },
  {
   "cell_type": "markdown",
   "id": "ecb11a8b-edc2-4f43-bbd8-336916d4ffec",
   "metadata": {},
   "source": [
    "## **Monkey neurons, human search times—Can `math` crack the oddball** *mystery?*"
   ]
  },
  {
   "cell_type": "code",
   "execution_count": 3,
   "id": "b6634a64-c18b-44af-a875-222ecbfb3358",
   "metadata": {},
   "outputs": [],
   "source": [
    "import pandas as pd \n",
    "import numpy as np \n",
    "import matplotlib.pyplot as plt\n",
    "import scipy.stats as stats\n",
    "from scipy.stats import linregress"
   ]
  },
  {
   "cell_type": "markdown",
   "id": "8d91622d-c75a-4216-8665-e1384012b5a8",
   "metadata": {},
   "source": [
    "# 1. a"
   ]
  },
  {
   "cell_type": "code",
   "execution_count": 4,
   "id": "24619aa8-2832-4f9d-a611-f9245a8523f5",
   "metadata": {},
   "outputs": [],
   "source": [
    "# The first three rows are used as headers (as they are just labels), forming a MultiIndex\n",
    "\n",
    "search_data = pd.read_csv('search-times-dataset.csv', header=[0, 1, 2])"
   ]
  },
  {
   "cell_type": "code",
   "execution_count": 5,
   "id": "61a632de-f520-45be-929a-3aeace4b8c56",
   "metadata": {},
   "outputs": [
    {
     "data": {
      "text/html": [
       "<div>\n",
       "<style scoped>\n",
       "    .dataframe tbody tr th:only-of-type {\n",
       "        vertical-align: middle;\n",
       "    }\n",
       "\n",
       "    .dataframe tbody tr th {\n",
       "        vertical-align: top;\n",
       "    }\n",
       "\n",
       "    .dataframe thead tr th {\n",
       "        text-align: left;\n",
       "    }\n",
       "</style>\n",
       "<table border=\"1\" class=\"dataframe\">\n",
       "  <thead>\n",
       "    <tr>\n",
       "      <th></th>\n",
       "      <th colspan=\"6\" halign=\"left\">Set 1</th>\n",
       "      <th colspan=\"6\" halign=\"left\">Set 2</th>\n",
       "      <th colspan=\"6\" halign=\"left\">Set 3</th>\n",
       "    </tr>\n",
       "    <tr>\n",
       "      <th></th>\n",
       "      <th colspan=\"2\" halign=\"left\">Colour</th>\n",
       "      <th colspan=\"2\" halign=\"left\">Pattern</th>\n",
       "      <th colspan=\"2\" halign=\"left\">Chevron</th>\n",
       "      <th colspan=\"2\" halign=\"left\">Far</th>\n",
       "      <th colspan=\"2\" halign=\"left\">Middle</th>\n",
       "      <th colspan=\"2\" halign=\"left\">Near</th>\n",
       "      <th colspan=\"2\" halign=\"left\">Small</th>\n",
       "      <th colspan=\"2\" halign=\"left\">Medium</th>\n",
       "      <th colspan=\"2\" halign=\"left\">Large</th>\n",
       "    </tr>\n",
       "    <tr>\n",
       "      <th></th>\n",
       "      <th>Oddball L</th>\n",
       "      <th>Oddball R</th>\n",
       "      <th>Oddball L</th>\n",
       "      <th>Oddball R</th>\n",
       "      <th>Oddball L</th>\n",
       "      <th>Oddball R</th>\n",
       "      <th>Oddball L</th>\n",
       "      <th>Oddball R</th>\n",
       "      <th>Oddball L</th>\n",
       "      <th>Oddball R</th>\n",
       "      <th>Oddball L</th>\n",
       "      <th>Oddball R</th>\n",
       "      <th>Oddball L</th>\n",
       "      <th>Oddball R</th>\n",
       "      <th>Oddball L</th>\n",
       "      <th>Oddball R</th>\n",
       "      <th>Oddball L</th>\n",
       "      <th>Oddball R</th>\n",
       "    </tr>\n",
       "  </thead>\n",
       "  <tbody>\n",
       "    <tr>\n",
       "      <th>0</th>\n",
       "      <td>375</td>\n",
       "      <td>5025</td>\n",
       "      <td>771</td>\n",
       "      <td>1319</td>\n",
       "      <td>485</td>\n",
       "      <td>501</td>\n",
       "      <td>607</td>\n",
       "      <td>826</td>\n",
       "      <td>767</td>\n",
       "      <td>602</td>\n",
       "      <td>545</td>\n",
       "      <td>710</td>\n",
       "      <td>1257</td>\n",
       "      <td>655</td>\n",
       "      <td>547</td>\n",
       "      <td>494</td>\n",
       "      <td>499</td>\n",
       "      <td>495</td>\n",
       "    </tr>\n",
       "    <tr>\n",
       "      <th>1</th>\n",
       "      <td>1425</td>\n",
       "      <td>1146</td>\n",
       "      <td>1490</td>\n",
       "      <td>1149</td>\n",
       "      <td>554</td>\n",
       "      <td>655</td>\n",
       "      <td>653</td>\n",
       "      <td>1210</td>\n",
       "      <td>546</td>\n",
       "      <td>766</td>\n",
       "      <td>490</td>\n",
       "      <td>548</td>\n",
       "      <td>880</td>\n",
       "      <td>719</td>\n",
       "      <td>655</td>\n",
       "      <td>820</td>\n",
       "      <td>605</td>\n",
       "      <td>497</td>\n",
       "    </tr>\n",
       "    <tr>\n",
       "      <th>2</th>\n",
       "      <td>2088</td>\n",
       "      <td>1540</td>\n",
       "      <td>1532</td>\n",
       "      <td>1431</td>\n",
       "      <td>820</td>\n",
       "      <td>932</td>\n",
       "      <td>707</td>\n",
       "      <td>710</td>\n",
       "      <td>545</td>\n",
       "      <td>879</td>\n",
       "      <td>431</td>\n",
       "      <td>435</td>\n",
       "      <td>981</td>\n",
       "      <td>550</td>\n",
       "      <td>658</td>\n",
       "      <td>710</td>\n",
       "      <td>438</td>\n",
       "      <td>495</td>\n",
       "    </tr>\n",
       "    <tr>\n",
       "      <th>3</th>\n",
       "      <td>875</td>\n",
       "      <td>1422</td>\n",
       "      <td>994</td>\n",
       "      <td>542</td>\n",
       "      <td>875</td>\n",
       "      <td>1263</td>\n",
       "      <td>600</td>\n",
       "      <td>1260</td>\n",
       "      <td>765</td>\n",
       "      <td>1434</td>\n",
       "      <td>607</td>\n",
       "      <td>655</td>\n",
       "      <td>1046</td>\n",
       "      <td>600</td>\n",
       "      <td>601</td>\n",
       "      <td>988</td>\n",
       "      <td>1100</td>\n",
       "      <td>662</td>\n",
       "    </tr>\n",
       "    <tr>\n",
       "      <th>4</th>\n",
       "      <td>1373</td>\n",
       "      <td>1646</td>\n",
       "      <td>1590</td>\n",
       "      <td>1160</td>\n",
       "      <td>490</td>\n",
       "      <td>658</td>\n",
       "      <td>875</td>\n",
       "      <td>715</td>\n",
       "      <td>1651</td>\n",
       "      <td>820</td>\n",
       "      <td>600</td>\n",
       "      <td>710</td>\n",
       "      <td>1536</td>\n",
       "      <td>1211</td>\n",
       "      <td>600</td>\n",
       "      <td>1147</td>\n",
       "      <td>714</td>\n",
       "      <td>825</td>\n",
       "    </tr>\n",
       "  </tbody>\n",
       "</table>\n",
       "</div>"
      ],
      "text/plain": [
       "      Set 1                                                       Set 2  \\\n",
       "     Colour             Pattern             Chevron                 Far   \n",
       "  Oddball L Oddball R Oddball L Oddball R Oddball L Oddball R Oddball L   \n",
       "0       375      5025       771      1319       485       501       607   \n",
       "1      1425      1146      1490      1149       554       655       653   \n",
       "2      2088      1540      1532      1431       820       932       707   \n",
       "3       875      1422       994       542       875      1263       600   \n",
       "4      1373      1646      1590      1160       490       658       875   \n",
       "\n",
       "                                                        Set 3            \\\n",
       "               Middle                Near               Small             \n",
       "  Oddball R Oddball L Oddball R Oddball L Oddball R Oddball L Oddball R   \n",
       "0       826       767       602       545       710      1257       655   \n",
       "1      1210       546       766       490       548       880       719   \n",
       "2       710       545       879       431       435       981       550   \n",
       "3      1260       765      1434       607       655      1046       600   \n",
       "4       715      1651       820       600       710      1536      1211   \n",
       "\n",
       "                                           \n",
       "     Medium               Large            \n",
       "  Oddball L Oddball R Oddball L Oddball R  \n",
       "0       547       494       499       495  \n",
       "1       655       820       605       497  \n",
       "2       658       710       438       495  \n",
       "3       601       988      1100       662  \n",
       "4       600      1147       714       825  "
      ]
     },
     "execution_count": 5,
     "metadata": {},
     "output_type": "execute_result"
    }
   ],
   "source": [
    "search_data.head()"
   ]
  },
  {
   "cell_type": "code",
   "execution_count": 6,
   "id": "aac80de3-bebe-40a2-b3ac-eb4f87dc8e80",
   "metadata": {},
   "outputs": [],
   "source": [
    "# Subtracting the base reaction time : 328 ms to analyze relative differences\n",
    "clean_search_data = search_data - 328"
   ]
  },
  {
   "cell_type": "code",
   "execution_count": 7,
   "id": "60806c29-761c-423e-b764-125fdbd878b8",
   "metadata": {},
   "outputs": [],
   "source": [
    "# clean_search_data"
   ]
  },
  {
   "cell_type": "code",
   "execution_count": 8,
   "id": "9e9e2876-82d2-48e1-8423-d31d535fc91a",
   "metadata": {},
   "outputs": [],
   "source": [
    "# Computing the column-wise mean\n",
    "average_search_delays = clean_search_data.mean()"
   ]
  },
  {
   "cell_type": "code",
   "execution_count": 9,
   "id": "c6a15088-ced2-4fa9-9826-1bb21502eac7",
   "metadata": {},
   "outputs": [],
   "source": [
    "# Converting into a NumPy array\n",
    "average_search_delays = average_search_delays.to_numpy()"
   ]
  },
  {
   "cell_type": "code",
   "execution_count": 10,
   "id": "fef8698c-d7e9-45ae-87c3-d7695a1b02e0",
   "metadata": {},
   "outputs": [
    {
     "data": {
      "text/plain": [
       "array([ 883.77777778, 1081.40277778,  985.25      , 1009.13888889,\n",
       "        275.26388889,  296.66666667,  503.31944444,  502.79166667,\n",
       "        313.40277778,  307.52777778,  218.55555556,  251.95833333,\n",
       "        818.33333333,  615.23611111,  309.40277778,  341.93055556,\n",
       "        239.84722222,  209.38888889])"
      ]
     },
     "execution_count": 10,
     "metadata": {},
     "output_type": "execute_result"
    }
   ],
   "source": [
    "average_search_delays"
   ]
  },
  {
   "cell_type": "markdown",
   "id": "b75dcda1-3a83-4c88-b6d0-0a07356cd4f7",
   "metadata": {},
   "source": [
    "# 1. b & c"
   ]
  },
  {
   "cell_type": "code",
   "execution_count": 11,
   "id": "528f15b8-8628-4bb0-9bbb-da6bcf70eb91",
   "metadata": {},
   "outputs": [],
   "source": [
    "# Load dataset with hierarchial headers (3-level column index)\n",
    "# \"brain_fire\" represents neuron spikes\n",
    "brain_fire = pd.read_csv('firing-rates-dataset.csv', header=[0, 1, 2])"
   ]
  },
  {
   "cell_type": "code",
   "execution_count": 12,
   "id": "4a6f1e3f-5e31-43be-8a78-f9818b2bf91c",
   "metadata": {},
   "outputs": [
    {
     "data": {
      "text/html": [
       "<div>\n",
       "<style scoped>\n",
       "    .dataframe tbody tr th:only-of-type {\n",
       "        vertical-align: middle;\n",
       "    }\n",
       "\n",
       "    .dataframe tbody tr th {\n",
       "        vertical-align: top;\n",
       "    }\n",
       "\n",
       "    .dataframe thead tr th {\n",
       "        text-align: left;\n",
       "    }\n",
       "</style>\n",
       "<table border=\"1\" class=\"dataframe\">\n",
       "  <thead>\n",
       "    <tr>\n",
       "      <th></th>\n",
       "      <th colspan=\"6\" halign=\"left\">Set 1</th>\n",
       "      <th colspan=\"6\" halign=\"left\">Set 2</th>\n",
       "      <th colspan=\"6\" halign=\"left\">Set 3</th>\n",
       "    </tr>\n",
       "    <tr>\n",
       "      <th></th>\n",
       "      <th colspan=\"2\" halign=\"left\">Colour</th>\n",
       "      <th colspan=\"2\" halign=\"left\">Pattern</th>\n",
       "      <th colspan=\"2\" halign=\"left\">Chevron</th>\n",
       "      <th colspan=\"2\" halign=\"left\">Far</th>\n",
       "      <th colspan=\"2\" halign=\"left\">Middle</th>\n",
       "      <th colspan=\"2\" halign=\"left\">Near</th>\n",
       "      <th colspan=\"2\" halign=\"left\">Small</th>\n",
       "      <th colspan=\"2\" halign=\"left\">Medium</th>\n",
       "      <th colspan=\"2\" halign=\"left\">Large</th>\n",
       "    </tr>\n",
       "    <tr>\n",
       "      <th></th>\n",
       "      <th>L</th>\n",
       "      <th>R</th>\n",
       "      <th>L</th>\n",
       "      <th>R</th>\n",
       "      <th>L</th>\n",
       "      <th>R</th>\n",
       "      <th>L</th>\n",
       "      <th>R</th>\n",
       "      <th>L</th>\n",
       "      <th>R</th>\n",
       "      <th>L</th>\n",
       "      <th>R</th>\n",
       "      <th>L</th>\n",
       "      <th>R</th>\n",
       "      <th>L</th>\n",
       "      <th>R</th>\n",
       "      <th>L</th>\n",
       "      <th>R</th>\n",
       "    </tr>\n",
       "  </thead>\n",
       "  <tbody>\n",
       "    <tr>\n",
       "      <th>0</th>\n",
       "      <td>24.000000</td>\n",
       "      <td>21.230769</td>\n",
       "      <td>44.615385</td>\n",
       "      <td>38.666667</td>\n",
       "      <td>25.538462</td>\n",
       "      <td>38.000000</td>\n",
       "      <td>10.0</td>\n",
       "      <td>21.333333</td>\n",
       "      <td>5.333333</td>\n",
       "      <td>28.666667</td>\n",
       "      <td>4.333333</td>\n",
       "      <td>29.000000</td>\n",
       "      <td>26.333333</td>\n",
       "      <td>46.666667</td>\n",
       "      <td>20.666667</td>\n",
       "      <td>50.769231</td>\n",
       "      <td>21.666667</td>\n",
       "      <td>40.333333</td>\n",
       "    </tr>\n",
       "    <tr>\n",
       "      <th>1</th>\n",
       "      <td>25.538462</td>\n",
       "      <td>11.692308</td>\n",
       "      <td>30.769231</td>\n",
       "      <td>19.000000</td>\n",
       "      <td>16.615385</td>\n",
       "      <td>23.666667</td>\n",
       "      <td>29.0</td>\n",
       "      <td>35.333333</td>\n",
       "      <td>15.333333</td>\n",
       "      <td>37.333333</td>\n",
       "      <td>17.666667</td>\n",
       "      <td>37.333333</td>\n",
       "      <td>33.666667</td>\n",
       "      <td>29.333333</td>\n",
       "      <td>16.000000</td>\n",
       "      <td>20.000000</td>\n",
       "      <td>17.333333</td>\n",
       "      <td>19.333333</td>\n",
       "    </tr>\n",
       "    <tr>\n",
       "      <th>2</th>\n",
       "      <td>2.333333</td>\n",
       "      <td>5.000000</td>\n",
       "      <td>5.666667</td>\n",
       "      <td>5.000000</td>\n",
       "      <td>11.666667</td>\n",
       "      <td>13.333333</td>\n",
       "      <td>17.0</td>\n",
       "      <td>14.333333</td>\n",
       "      <td>14.333333</td>\n",
       "      <td>19.000000</td>\n",
       "      <td>11.333333</td>\n",
       "      <td>16.000000</td>\n",
       "      <td>20.666667</td>\n",
       "      <td>17.333333</td>\n",
       "      <td>14.333333</td>\n",
       "      <td>16.666667</td>\n",
       "      <td>10.333333</td>\n",
       "      <td>13.666667</td>\n",
       "    </tr>\n",
       "    <tr>\n",
       "      <th>3</th>\n",
       "      <td>41.666667</td>\n",
       "      <td>53.000000</td>\n",
       "      <td>43.333333</td>\n",
       "      <td>39.000000</td>\n",
       "      <td>43.000000</td>\n",
       "      <td>48.333333</td>\n",
       "      <td>15.0</td>\n",
       "      <td>17.666667</td>\n",
       "      <td>16.000000</td>\n",
       "      <td>15.000000</td>\n",
       "      <td>13.666667</td>\n",
       "      <td>15.000000</td>\n",
       "      <td>28.333333</td>\n",
       "      <td>16.333333</td>\n",
       "      <td>15.333333</td>\n",
       "      <td>26.666667</td>\n",
       "      <td>21.333333</td>\n",
       "      <td>25.333333</td>\n",
       "    </tr>\n",
       "    <tr>\n",
       "      <th>4</th>\n",
       "      <td>18.000000</td>\n",
       "      <td>21.666667</td>\n",
       "      <td>27.333333</td>\n",
       "      <td>17.666667</td>\n",
       "      <td>16.000000</td>\n",
       "      <td>23.333333</td>\n",
       "      <td>13.0</td>\n",
       "      <td>11.333333</td>\n",
       "      <td>10.666667</td>\n",
       "      <td>20.333333</td>\n",
       "      <td>14.000000</td>\n",
       "      <td>15.666667</td>\n",
       "      <td>30.000000</td>\n",
       "      <td>27.333333</td>\n",
       "      <td>20.000000</td>\n",
       "      <td>28.333333</td>\n",
       "      <td>21.666667</td>\n",
       "      <td>34.000000</td>\n",
       "    </tr>\n",
       "  </tbody>\n",
       "</table>\n",
       "</div>"
      ],
      "text/plain": [
       "       Set 1                                                        Set 2  \\\n",
       "      Colour               Pattern               Chevron              Far   \n",
       "           L          R          L          R          L          R     L   \n",
       "0  24.000000  21.230769  44.615385  38.666667  25.538462  38.000000  10.0   \n",
       "1  25.538462  11.692308  30.769231  19.000000  16.615385  23.666667  29.0   \n",
       "2   2.333333   5.000000   5.666667   5.000000  11.666667  13.333333  17.0   \n",
       "3  41.666667  53.000000  43.333333  39.000000  43.000000  48.333333  15.0   \n",
       "4  18.000000  21.666667  27.333333  17.666667  16.000000  23.333333  13.0   \n",
       "\n",
       "                                                              Set 3  \\\n",
       "                 Middle                  Near                 Small   \n",
       "           R          L          R          L          R          L   \n",
       "0  21.333333   5.333333  28.666667   4.333333  29.000000  26.333333   \n",
       "1  35.333333  15.333333  37.333333  17.666667  37.333333  33.666667   \n",
       "2  14.333333  14.333333  19.000000  11.333333  16.000000  20.666667   \n",
       "3  17.666667  16.000000  15.000000  13.666667  15.000000  28.333333   \n",
       "4  11.333333  10.666667  20.333333  14.000000  15.666667  30.000000   \n",
       "\n",
       "                                                          \n",
       "                 Medium                 Large             \n",
       "           R          L          R          L          R  \n",
       "0  46.666667  20.666667  50.769231  21.666667  40.333333  \n",
       "1  29.333333  16.000000  20.000000  17.333333  19.333333  \n",
       "2  17.333333  14.333333  16.666667  10.333333  13.666667  \n",
       "3  16.333333  15.333333  26.666667  21.333333  25.333333  \n",
       "4  27.333333  20.000000  28.333333  21.666667  34.000000  "
      ]
     },
     "execution_count": 12,
     "metadata": {},
     "output_type": "execute_result"
    }
   ],
   "source": [
    "# To verify\n",
    "brain_fire.head()"
   ]
  },
  {
   "cell_type": "code",
   "execution_count": 13,
   "id": "341070ee-ea76-418d-bf99-3f57a948bcc7",
   "metadata": {},
   "outputs": [],
   "source": [
    "# Extract unique \"Set\" names from MultiIndex columns (avoiding repetition)\n",
    "\n",
    "sets = brain_fire.columns.get_level_values(0).unique()"
   ]
  },
  {
   "cell_type": "code",
   "execution_count": 29,
   "id": "ae2ce20a-ef6e-4739-8bcd-8ce88ea305b2",
   "metadata": {},
   "outputs": [
    {
     "data": {
      "text/plain": [
       "MultiIndex([('Set 1',  'Colour', 'L'),\n",
       "            ('Set 1',  'Colour', 'R'),\n",
       "            ('Set 1', 'Pattern', 'L'),\n",
       "            ('Set 1', 'Pattern', 'R'),\n",
       "            ('Set 1', 'Chevron', 'L'),\n",
       "            ('Set 1', 'Chevron', 'R'),\n",
       "            ('Set 2',     'Far', 'L'),\n",
       "            ('Set 2',     'Far', 'R'),\n",
       "            ('Set 2',  'Middle', 'L'),\n",
       "            ('Set 2',  'Middle', 'R'),\n",
       "            ('Set 2',    'Near', 'L'),\n",
       "            ('Set 2',    'Near', 'R'),\n",
       "            ('Set 3',   'Small', 'L'),\n",
       "            ('Set 3',   'Small', 'R'),\n",
       "            ('Set 3',  'Medium', 'L'),\n",
       "            ('Set 3',  'Medium', 'R'),\n",
       "            ('Set 3',   'Large', 'L'),\n",
       "            ('Set 3',   'Large', 'R')],\n",
       "           )"
      ]
     },
     "execution_count": 29,
     "metadata": {},
     "output_type": "execute_result"
    }
   ],
   "source": [
    "# To Debug\n",
    "brain_fire.columns"
   ]
  },
  {
   "cell_type": "code",
   "execution_count": 36,
   "id": "2d93356e-e3fb-4f9d-803b-229cb6e5a506",
   "metadata": {},
   "outputs": [],
   "source": [
    "\n",
    "# Small (Laplace) smoothing factor to prevent division by zero\n",
    "epsilon = 1e-10  \n",
    "\n",
    "# Function to compute KL divergence (relative entropy)\n",
    "def relative_entropy(lambda_i, lambda_j):\n",
    "    \"\"\"\n",
    "    Computes the KL(Kullback-Leibler) divergence between two neuronal firing rate distributions.\n",
    "\n",
    "    KL divergence measures how much information is lost when λ_j approximates λ_i.\n",
    "    renders KL divergence (relative entropy).\n",
    "\"\"\"\n",
    "    \n",
    "    lambda_i, lambda_j = np.array(lambda_i), np.array(lambda_j)\n",
    "\n",
    "    # Mask to filter out rows where either λ_i or λ_j is zero\n",
    "    mask = (lambda_i > 0) & (lambda_j > 0)\n",
    "    \n",
    "    lambda_i_filtered = lambda_i[mask] + epsilon\n",
    "    lambda_j_filtered = lambda_j[mask] + epsilon\n",
    "\n",
    "    # Compute KL divergence: D(λ_i || λ_j)\n",
    "    return np.mean(lambda_i_filtered * np.log(lambda_i_filtered / lambda_j_filtered) - lambda_i_filtered + lambda_j_filtered)\n"
   ]
  },
  {
   "cell_type": "code",
   "execution_count": 37,
   "id": "c6c07698-1425-408a-8639-636724a053fe",
   "metadata": {},
   "outputs": [],
   "source": [
    "def l1_distance(lambda_i, lambda_j):\n",
    "    \"\"\"\n",
    "    l1 distance while ignoring NaNs.\n",
    "    \"\"\"\n",
    "    lambda_i, lambda_j = np.array(lambda_i), np.array(lambda_j)\n",
    "\n",
    "    # Ignore rows where either λ_i or λ_j is NaN\n",
    "    mask = ~np.isnan(lambda_i) & ~np.isnan(lambda_j)  # Keep only valid values\n",
    "    lambda_i, lambda_j = lambda_i[mask], lambda_j[mask]\n",
    "\n",
    "    return np.mean(np.abs(lambda_i - lambda_j))"
   ]
  },
  {
   "cell_type": "code",
   "execution_count": 38,
   "id": "93f8b9b2-9576-42f9-a921-724c27c20f1d",
   "metadata": {},
   "outputs": [],
   "source": [
    "# Initialize lists to store computed distances\n",
    "\n",
    "# Stores KL divergence values\n",
    "relative_entropy_distances = [] \n",
    "\n",
    "# Stores L1 distance values\n",
    "L_1_distances = []"
   ]
  },
  {
   "cell_type": "code",
   "execution_count": 39,
   "id": "1edbad97-402e-4846-886d-7ccb41ae22f9",
   "metadata": {},
   "outputs": [],
   "source": [
    "## Expected order of image pair types (formerly 'conditions') within each \"Set\"\n",
    "odd_duos = ['Colour', 'Pattern', 'Chevron', 'Far', 'Middle', 'Near', 'Small', 'Medium', 'Large']\n",
    "\n",
    "for set_name in sorted(sets):  \n",
    "    if set_name in brain_fire.columns.levels[0]:  \n",
    "        for oddball in odd_duos:\n",
    "            if (set_name, oddball, 'L') in brain_fire.columns and (set_name, oddball, 'R') in brain_fire.columns:\n",
    "                lambda_L = brain_fire[(set_name, oddball, 'L')].values\n",
    "                lambda_R = brain_fire[(set_name, oddball, 'R')].values\n",
    "\n",
    "                # Compute relative entropy (KL divergence)\n",
    "                \n",
    "                # Considering λ_L as an oddball image and λ_R as a distractor image\n",
    "                D_ij = relative_entropy(lambda_L, lambda_R)  # D (L || R)\n",
    "\n",
    "                # Considering λ_R as an oddball image and λ__L as a distractor image\n",
    "                D_ji = relative_entropy(lambda_R, lambda_L)  # D (R || L)\n",
    "\n",
    "                # Store KL divergence results\n",
    "                relative_entropy_distances.append(D_ij)\n",
    "                relative_entropy_distances.append(D_ji)\n",
    "\n",
    "                # Computing and storing L1 distances\n",
    "                L_ij = l1_distance(lambda_L, lambda_R)\n",
    "                L_ji = l1_distance(lambda_R, lambda_L) # L_ij == L_ji since |a - b| == |b - a|\n",
    "\n",
    "                L_1_distances.append(L_ij)\n",
    "                L_1_distances.append(L_ji)\n",
    "             \n",
    "\n",
    "# Converting into NumPy arrays\n",
    "relative_entropy_distances = np.array(relative_entropy_distances)\n",
    "L_1_distances = np.array(L_1_distances)"
   ]
  },
  {
   "cell_type": "code",
   "execution_count": 40,
   "id": "fd47ff21-e372-4ad4-bc23-cd8f6c495ac9",
   "metadata": {},
   "outputs": [
    {
     "data": {
      "text/plain": [
       "array([0.63834794, 0.61835705, 0.65685051, 0.66293651, 1.55337325,\n",
       "       1.63076479, 1.11677337, 1.09011194, 1.46193832, 1.56548597,\n",
       "       1.77473095, 2.12783769, 0.65428099, 0.78416525, 1.13060613,\n",
       "       1.47729041, 1.64344117, 1.72498623])"
      ]
     },
     "execution_count": 40,
     "metadata": {},
     "output_type": "execute_result"
    }
   ],
   "source": [
    "relative_entropy_distances"
   ]
  },
  {
   "cell_type": "code",
   "execution_count": 41,
   "id": "fa621e73-2d35-4cd5-840e-a5d5998e50c9",
   "metadata": {},
   "outputs": [
    {
     "data": {
      "text/plain": [
       "array([2.7756785 , 2.7756785 , 3.20633068, 3.20633068, 4.79391394,\n",
       "       4.79391394, 3.79158273, 3.79158273, 4.13455124, 4.13455124,\n",
       "       4.72969894, 4.72969894, 3.11108657, 3.11108657, 3.94509803,\n",
       "       3.94509803, 5.45929509, 5.45929509])"
      ]
     },
     "execution_count": 41,
     "metadata": {},
     "output_type": "execute_result"
    }
   ],
   "source": [
    "L_1_distances"
   ]
  },
  {
   "cell_type": "markdown",
   "id": "9ef19751-a41c-4579-9393-9694d5545eaf",
   "metadata": {},
   "source": [
    "##  What Do These Numbers Mean in Neuronal Response  \n",
    "\n",
    "- **If either KL divergence or L1 distance is large**, it means the neuron responds **very differently** to oddballs than to distractors. **The brain detects the oddball!**  \n",
    "- **If either KL divergence or L1 distance is small**, neurons are treating the oddball **similarly** to a distractor **The brain isn’t reacting much.**  \n"
   ]
  },
  {
   "cell_type": "markdown",
   "id": "696e0a9c-943d-40b9-9b60-c90ab1a587af",
   "metadata": {},
   "source": [
    "# 2. a"
   ]
  },
  {
   "cell_type": "markdown",
   "id": "9ff85778-9351-4355-95bc-7f945e4fb58a",
   "metadata": {},
   "source": [
    "### Why is the best-fit slope computed as Σ(xy) / Σ(x²)?\n",
    "\n",
    "We minimize the **Mean Squared Error (MSE)** to find the best-fit slope `m` in `y = mx`:\n",
    "\n",
    "MSE = (1/N) Σ (yᵢ - m xᵢ)²  \n",
    "\n",
    "A function reaches its **minimum** when its **derivative is zero**:\n",
    "\n",
    "d/dm (MSE) = 0  \n",
    "\n",
    "This ensures the function stops decreasing and starts increasing (**turning point**).  \n",
    "\n",
    "---  \n",
    "\n",
    "For **least squares regression**, the function to minimize is:\n",
    "\n",
    "S(m) = Σ (yᵢ - m xᵢ)²  \n",
    "\n",
    "Taking the derivative:\n",
    "\n",
    "d/dm [Σ (yᵢ - m xᵢ)²] = -2 Σ xᵢ yᵢ + 2m Σ xᵢ²  \n",
    "\n",
    "Setting it to zero:\n",
    "\n",
    "Σ xᵢ yᵢ = m Σ xᵢ²  \n",
    "\n",
    "Solving for `m`:\n",
    "\n",
    "m = Σ (xᵢ yᵢ) / Σ (xᵢ²)  \n",
    "\n",
    "---"
   ]
  },
  {
   "cell_type": "code",
   "execution_count": 42,
   "id": "a3ada0d6-3c7a-4304-868c-531785efb6ea",
   "metadata": {},
   "outputs": [
    {
     "name": "stdout",
     "output_type": "stream",
     "text": [
      "Optimal slope for KL divergence : 0.002202\n"
     ]
    }
   ],
   "source": [
    "metric_entropy = np.array(relative_entropy_distances) # X-axis KL divergence (perceptual distance)\n",
    "inv_search_time = 1 / np.array(average_search_delays) # Y-axis: Inverse of average search delays\n",
    "\n",
    "# Ensures dimensions match by averaging adjacent pairs\n",
    "if len(inv_search_time) > len(metric_entropy):\n",
    "    inv_search_time = np.mean(inv_search_time.reshape(-1, 2), axis=1)\n",
    "\n",
    "# optimal slope for the best-fit line passing through the origin\n",
    "m_opt_entropy = np.sum(metric_entropy * inv_search_time) / np.sum(metric_entropy ** 2)\n",
    "\n",
    "print(f\"Optimal slope for KL divergence : {m_opt_entropy:.6f}\")"
   ]
  },
  {
   "cell_type": "code",
   "execution_count": 60,
   "id": "ebf30ee4-721b-4080-b8d0-7ea5c1513e0d",
   "metadata": {},
   "outputs": [
    {
     "data": {
      "image/png": "[encoded data removed]",
      "text/plain": [
       "<Figure size 640x480 with 1 Axes>"
      ]
     },
     "metadata": {},
     "output_type": "display_data"
    }
   ],
   "source": [
    "# Generate x values for plotting the best-fit line\n",
    "x_line = np.linspace(0, max(metric_entropy) + 1, 100)\n",
    "\n",
    "# Plotting\n",
    "plt.scatter(metric_entropy, inv_search_time, label=\"Data Points\")\n",
    "plt.plot(x_line, m_opt_entropy * x_line, color=\"cyan\", label=f\"Best fit: y = {m_opt_entropy:.4f}x\")\n",
    "plt.xticks(np.arange(0, 1.10, 0.50))\n",
    "plt.yticks(np.arange(0, 0.007, 0.001))\n",
    "plt.xlabel(\"Relative Entropy Distances\")\n",
    "plt.ylabel(\"Inverse of Average Search Delays\")\n",
    "plt.legend()\n",
    "plt.title(\"Best-Fit Line for Perceptual Distance vs. Search Time\")\n",
    "plt.show()"
   ]
  },
  {
   "cell_type": "markdown",
   "id": "dcc6c37d-f641-492b-b058-0fff90f1744b",
   "metadata": {},
   "source": [
    "# 2. b"
   ]
  },
  {
   "cell_type": "code",
   "execution_count": 44,
   "id": "61b3d5eb-e712-4838-b134-28838e083d8a",
   "metadata": {},
   "outputs": [
    {
     "name": "stdout",
     "output_type": "stream",
     "text": [
      "Optimal slope for L1 distances : 0.000700\n"
     ]
    }
   ],
   "source": [
    "L1_perceptual_distance = np.array(L_1_distances)\n",
    "\n",
    "if len(inv_search_time) > len(L1_perceptual_distance):\n",
    "    inv_search_time = np.mean(inv_search_time.reshape(-1, 2), axis=1)\n",
    "\n",
    "# Optimal slope for L1 distances\n",
    "m_opt_L1 = np.sum(L1_perceptual_distance * inv_search_time) / np.sum(L1_perceptual_distance**2)\n",
    "\n",
    "print(f\"Optimal slope for L1 distances : {m_opt_L1:.6f}\")"
   ]
  },
  {
   "cell_type": "code",
   "execution_count": 45,
   "id": "b888c497-d23c-440e-b215-f0c35f9428e4",
   "metadata": {},
   "outputs": [
    {
     "data": {
      "image/png": "[encoded data removed]",
      "text/plain": [
       "<Figure size 640x480 with 1 Axes>"
      ]
     },
     "metadata": {},
     "output_type": "display_data"
    }
   ],
   "source": [
    "x_line = np.linspace(0, max(L1_perceptual_distance) + 1, 100)\n",
    "\n",
    "plt.scatter(L1_perceptual_distance, inv_search_time, label=\"Data Points\")\n",
    "plt.plot(x_line, m_opt_L1 * x_line, color=\"cyan\", label=f\"Best fit: y = {m_opt_L1:.4f}x\")\n",
    "plt.xticks(np.arange(0, 7.0, 1.0))\n",
    "plt.yticks(np.arange(0, 0.007, 0.001))\n",
    "plt.xlabel(\"L1 Distances\")\n",
    "plt.ylabel(\"Inverse of Average Search Delays\")\n",
    "plt.legend()\n",
    "plt.title(\"Best-Fit Line for L1 Distance vs. Search Time\")\n",
    "plt.show()"
   ]
  },
  {
   "cell_type": "markdown",
   "id": "aeb2a699-5b5a-46fe-9882-faf19c5b15fd",
   "metadata": {},
   "source": [
    "# Which model fits better? \n",
    "# **Let the MSE decide!**"
   ]
  },
  {
   "cell_type": "code",
   "execution_count": 46,
   "id": "f2332c32-74dc-41f6-81c9-8d5470530212",
   "metadata": {},
   "outputs": [
    {
     "name": "stdout",
     "output_type": "stream",
     "text": [
      "KL divergence is a better fit (lower MSE).\n"
     ]
    }
   ],
   "source": [
    "# Computing predicted values for both models\n",
    "predicted_inv_search_entropy = m_opt_entropy * metric_entropy\n",
    "predicted_inv_search_L1 = m_opt_L1 * L1_perceptual_distance\n",
    "\n",
    "# Mean Squared Error (MSE) for both models\n",
    "# MSE = 𝟏/𝑁 Σ (𝑦_actual - 𝑦_predicted)²\n",
    "\n",
    "mse_entropy = np.mean((inv_search_time - predicted_inv_search_entropy) ** 2)\n",
    "mse_L1 = np.mean((inv_search_time - predicted_inv_search_L1) ** 2)\n",
    "\n",
    "# Determining which model is better\n",
    "if mse_entropy < mse_L1:\n",
    "    print(\"KL divergence is a better fit (lower MSE).\")\n",
    "else:\n",
    "    print(\"L1 distance is a better fit (lower MSE).\")"
   ]
  },
  {
   "cell_type": "markdown",
   "id": "24e15a68-fc6e-4ff3-90a1-2ac067b2ddd1",
   "metadata": {},
   "source": [
    "# 3. a"
   ]
  },
  {
   "cell_type": "code",
   "execution_count": 47,
   "id": "3b5344e9-997d-4ed8-90f0-d04d6b9aa8d8",
   "metadata": {},
   "outputs": [
    {
     "name": "stdout",
     "output_type": "stream",
     "text": [
      "Estimated Shape Parameter (a): 2.3476\n",
      "Estimated Shape Parameter (From Plot Slope): 0.6325\n"
     ]
    },
    {
     "data": {
      "image/png": "[encoded data removed]",
      "text/plain": [
       "<Figure size 640x480 with 1 Axes>"
      ]
     },
     "metadata": {},
     "output_type": "display_data"
    }
   ],
   "source": [
    "# Computing shape parameter\n",
    "\n",
    "np.random.seed(42)\n",
    "num_cols = clean_search_data.shape[1]\n",
    "\n",
    "# Select half of the columns randomly\n",
    "selected_columns = np.random.choice(clean_search_data.columns, size=num_cols // 2, replace=False)\n",
    "\n",
    "# means and standard deviations for selected columns\n",
    "mean_search_delays = clean_search_data[selected_columns].mean().values\n",
    "std_search_delays = clean_search_data[selected_columns].std().values\n",
    "\n",
    "# a = (mean / std)² (derived from Gamma distribution properties)\n",
    "shape_param = np.mean((mean_search_delays / std_search_delays) ** 2)\n",
    "print(f\"Estimated Shape Parameter (a): {shape_param:.4f}\")\n",
    "\n",
    "\n",
    "# Fit a straight line to the data (std = slope * mean)\n",
    "slope, intercept, _, _, _ = linregress(mean_search_delays, std_search_delays)\n",
    "\n",
    "# Since std ≈ mean / sqrt(a), we rearrange to estimate a:\n",
    "# a = (1/slope)²shape_param_from_plot = (1 / slope) ** 2\n",
    "print(f\"Estimated Shape Parameter (From Plot Slope): {slope:.4f}\")\n",
    "\n",
    "# Plot standard deviation vs. mean with best-fit line\n",
    "plt.scatter(mean_search_delays, std_search_delays, label=\"Data Points\")\n",
    "\n",
    "# Optional\n",
    "plt.plot(mean_search_delays, slope * mean_search_delays + intercept, color=\"lightblue\",linestyle=\"--\", label=f\"Best Fit Line (Slope={slope:.4f})\")\n",
    "\n",
    "plt.xlabel(\"Mean of Search Delays\")\n",
    "plt.ylabel(\"Standard Deviation\")\n",
    "plt.title(\"Standard Deviation vs Mean of Search Delays\")\n",
    "plt.legend()\n",
    "plt.show()"
   ]
  },
  {
   "cell_type": "markdown",
   "id": "7ffb89ab-f58d-4d30-bd7c-402e8d59dd9c",
   "metadata": {},
   "source": [
    "# 3. b"
   ]
  },
  {
   "cell_type": "code",
   "execution_count": 48,
   "id": "f6ab9f0b-a94c-4bac-9e1e-71d66c7d35e3",
   "metadata": {},
   "outputs": [
    {
     "name": "stdout",
     "output_type": "stream",
     "text": [
      "Estimated Rate Parameter (b): 0.0056\n"
     ]
    }
   ],
   "source": [
    "# Estimating rate parameter (b)\n",
    "remaining_columns = clean_search_data.columns.difference(selected_columns)  # More robust selection\n",
    "remaining_data = clean_search_data[remaining_columns]\n",
    "\n",
    "# Remove NaN values before sampling\n",
    "remaining_data = remaining_data.dropna()\n",
    "\n",
    "# Ensures there are enough samples\n",
    "if remaining_data.empty:\n",
    "    print(\"Warning: No remaining data available after cleaning.\")\n",
    "    rate_param = np.nan\n",
    "else:\n",
    "    # Select half of the rows randomly from remaining columns\n",
    "    selected_samples = remaining_data.sample(frac=0.5, random_state=42, axis=0)\n",
    "\n",
    "    # mean and standard deviation\n",
    "    mean_selected_samples = selected_samples.mean().mean()\n",
    "    std_selected_samples = selected_samples.std().mean()\n",
    "\n",
    "    # Handle zero standard deviation case\n",
    "    # b = μ / σ² ( mean / standard_deviation² )\n",
    "    rate_param = np.nan if std_selected_samples == 0 else mean_selected_samples / (std_selected_samples ** 2)\n",
    "\n",
    "print(f\"Estimated Rate Parameter (b): {rate_param:.4f}\")\n"
   ]
  },
  {
   "cell_type": "markdown",
   "id": "016e71bd-c063-461e-a743-9964cabad609",
   "metadata": {},
   "source": [
    "# 3. c"
   ]
  },
  {
   "cell_type": "code",
   "execution_count": 49,
   "id": "caaff742-1683-44ac-a8bb-0af02248e82c",
   "metadata": {},
   "outputs": [
    {
     "name": "stdout",
     "output_type": "stream",
     "text": [
      "Kolmogorov-Smirnov Test Statistic: 0.1437\n"
     ]
    },
    {
     "data": {
      "image/png": "[encoded data removed]",
      "text/plain": [
       "<Figure size 640x480 with 1 Axes>"
      ]
     },
     "metadata": {},
     "output_type": "display_data"
    }
   ],
   "source": [
    "# Computing empirical CDF and comparing with Gamma CDF using the remaining half of data\n",
    "\n",
    "remaining_samples = remaining_data.drop(selected_samples.index)  # The other half (1/4 of total)\n",
    "\n",
    "# Converts remaining samples to a 1D array\n",
    "search_delays = remaining_samples.values.flatten()\n",
    "\n",
    "# Sort the data foe CDF calculation\n",
    "search_delays = np.sort(search_delays)\n",
    "\n",
    "# F_empirical(x_i) = (Rank of x_i) / Total samples (N)\n",
    "# np.arange(1, N+1) generates ranks [1, 2, ..., N]\n",
    "# Dividing by N ensures normalization (last value reaches 1) (basically probabilities)\n",
    "\n",
    "empirical_cdf = np.arange(1, len(search_delays) + 1) / len(search_delays)  \n",
    "\n",
    "# Computing Gamma CDF using estimated a and b\n",
    "gamma_cdf = stats.gamma.cdf(search_delays, a=shape_param, scale=1/rate_param)\n",
    "\n",
    "# --- Computing Kolmogorov-Smirnov test statistic ---\n",
    "# KS = max | CDF_empirical(x) - CDF_gamma(x) |\n",
    "ks_stat = np.max(np.abs(empirical_cdf - gamma_cdf))\n",
    "print(f\"Kolmogorov-Smirnov Test Statistic: {ks_stat:.4f}\")\n",
    "\n",
    "# Plotting empirical CDF vs. Gamma CDF\n",
    "plt.plot(search_delays, empirical_cdf, label=\"Empirical CDF\", color=\"mediumpurple\")\n",
    "plt.plot(search_delays, gamma_cdf, label=\"Gamma CDF\", color=\"darkorange\")\n",
    "plt.xlabel(\"Search Delay (ms)\")\n",
    "plt.ylabel(\"CDF\")\n",
    "plt.legend()\n",
    "plt.title(\"Empirical vs Theoretical Gamma CDF\")\n",
    "plt.show()"
   ]
  },
  {
   "cell_type": "code",
   "execution_count": null,
   "id": "64d613a5-4f69-4c62-9de4-fe13a3db7a05",
   "metadata": {},
   "outputs": [],
   "source": []
  },
  {
   "cell_type": "code",
   "execution_count": null,
   "id": "ef939639-9cbd-4d28-a669-99fea87e2d54",
   "metadata": {},
   "outputs": [],
   "source": []
  },
  {
   "cell_type": "code",
   "execution_count": null,
   "id": "0a1b016f-c6cd-4454-b558-186c50195877",
   "metadata": {},
   "outputs": [],
   "source": []
  },
  {
   "cell_type": "code",
   "execution_count": null,
   "id": "0e336aaa-31e8-4549-b1fb-c6df3e6f33ea",
   "metadata": {},
   "outputs": [],
   "source": []
  }
 ],
 "metadata": {
  "kernelspec": {
   "display_name": "Python 3 (ipykernel)",
   "language": "python",
   "name": "python3"
  },
  "language_info": {
   "codemirror_mode": {
    "name": "ipython",
    "version": 3
   },
   "file_extension": ".py",
   "mimetype": "text/x-python",
   "name": "python",
   "nbconvert_exporter": "python",
   "pygments_lexer": "ipython3",
   "version": "3.12.2"
  }
 },
 "nbformat": 4,
 "nbformat_minor": 5
}
