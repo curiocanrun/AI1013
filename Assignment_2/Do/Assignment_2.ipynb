{
 "cells": [
  {
   "cell_type": "code",
   "execution_count": 2,
   "id": "1aca1075-3461-486e-81b0-60618c0e496e",
   "metadata": {},
   "outputs": [],
   "source": [
    "import numpy as np\n",
    "import pandas as pd"
   ]
  },
  {
   "cell_type": "code",
   "execution_count": 3,
   "id": "fc981885-daab-4f46-b069-dc077c6b0e6d",
   "metadata": {},
   "outputs": [],
   "source": [
    "import matplotlib.pyplot as plt"
   ]
  },
  {
   "cell_type": "markdown",
   "id": "0151c665-92fa-427a-878d-c006a1a2e9da",
   "metadata": {},
   "source": [
    "\n",
    "# Training an Artificial Neural Network"
   ]
  },
  {
   "cell_type": "code",
   "execution_count": 4,
   "id": "38c23793-ec1f-44f4-9332-7781d0db172d",
   "metadata": {},
   "outputs": [],
   "source": [
    "nn_data = pd.read_csv('data_Q1.csv')"
   ]
  },
  {
   "cell_type": "code",
   "execution_count": 5,
   "id": "e88d205a-5520-47c2-ba1a-aa2dfbe3993c",
   "metadata": {},
   "outputs": [],
   "source": [
    "training_x1 = nn_data.iloc[:, 0].to_numpy()\n",
    "training_x2 = nn_data.iloc[:, 1].to_numpy()\n",
    "training_y = nn_data.iloc[:, 2].to_numpy().reshape(-1, 1) # Target reshaped to column vector for matrix operations\n",
    "# or else it would be an 1D array, with reshape(-1, 1) it becomes a matrix of shape (N, 1)"
   ]
  },
  {
   "cell_type": "code",
   "execution_count": 6,
   "id": "e58b7f9c-83ce-4e71-83d2-cb905d73f795",
   "metadata": {},
   "outputs": [],
   "source": [
    "def sigmoid(x):\n",
    "    '''\n",
    "    Sigmoid activation function\n",
    "    renders 1 / 1 + e^{-x}\n",
    "    '''\n",
    "    return 1 / (1 + np.exp(-x))\n",
    "\n",
    "def grad_sigmoid(x):\n",
    "    '''\n",
    "    derivative of sigmoid function\n",
    "    renders x * (1 - x)\n",
    "    where x is already sigma-activated\n",
    "    '''\n",
    "    return x * (1 - x)\n",
    "    "
   ]
  },
  {
   "cell_type": "markdown",
   "id": "f4961717-4c27-4114-9d60-37a56b5dba2a",
   "metadata": {},
   "source": [
    "### And in the attatched .pdf file (gradient_calculation) $\\sigma'(x) = \\sigma(x) \\times (1 - \\sigma(x))$ "
   ]
  },
  {
   "cell_type": "code",
   "execution_count": 7,
   "id": "cc2cc706-dd88-4c0b-b228-686408341410",
   "metadata": {},
   "outputs": [],
   "source": [
    "np.random.seed(123)"
   ]
  },
  {
   "cell_type": "code",
   "execution_count": 8,
   "id": "e5c545b0-ad17-47ca-9898-e98ff1f00e3e",
   "metadata": {},
   "outputs": [],
   "source": [
    "# Number of training samples\n",
    "N = len(training_y)"
   ]
  },
  {
   "cell_type": "code",
   "execution_count": 9,
   "id": "42fa436d-200e-4af9-b4f1-0c5752944dde",
   "metadata": {},
   "outputs": [],
   "source": [
    "# Constructing a feature matrix of dimension 3 x N\n",
    "training_x = np.array([[x1, x2, 1] for x1, x2 in zip(training_x1, training_x2)])"
   ]
  },
  {
   "cell_type": "markdown",
   "id": "19079e0f-4b58-48af-bcf7-462363bb3a52",
   "metadata": {},
   "source": [
    "## Homogenizing the input layer so that the bias term is appended\n",
    "### $y = w_1 x_1 + w_2 x_2 + b$\n",
    "### which can also be written as $y = w^T x$\n",
    "### where $x = \\begin{bmatrix}x_1 \\\\ x_2 \\\\ 1 \\end{bmatrix}$ and $w = \\begin{bmatrix}w_1 \\\\ w_2 \\\\ b \\end{bmatrix}$\n",
    " bias is incorporated directly into the weight matrix instead of considering it as an \"extra\" node"
   ]
  },
  {
   "cell_type": "code",
   "execution_count": 10,
   "id": "1f7d8ac8-6593-434d-8af8-0346e8c1fd66",
   "metadata": {},
   "outputs": [],
   "source": [
    "def initialize_weights():\n",
    "    '''\n",
    "    Initializing weight matrices randomly in [-1, 1]\n",
    "    '''\n",
    "    weights_1 = 2 * np.random.random((3, 3)) - 1  # Weights for input -> hidden (3x3)\n",
    "    weights_2 = 2 * np.random.random((4, 1)) - 1  # Weights for hidden -> output (4x1)\n",
    "\n",
    "    return weights_1, weights_2"
   ]
  },
  {
   "cell_type": "code",
   "execution_count": 11,
   "id": "4193d480-3b0b-41d7-bfc0-b762efc0584a",
   "metadata": {},
   "outputs": [],
   "source": [
    "# parameters\n",
    "learning_rate = 0.05 # hyperparameter η\n",
    "max_epochs = 100 # number of training iterations of the training loop\n",
    "training_error = []"
   ]
  },
  {
   "cell_type": "code",
   "execution_count": 12,
   "id": "20195892-8ff0-4ab3-b6b1-cb6e0fe22949",
   "metadata": {},
   "outputs": [],
   "source": [
    "def train_nn(training_x, training_y, eta=learning_rate):\n",
    "\n",
    "    weights_1, weights_2 = initialize_weights()\n",
    "    training_error = []\n",
    "\n",
    "    # Training loop\n",
    "    for epoch in range(max_epochs):\n",
    "        \n",
    "        # Forward propagation\n",
    "        X = training_x # Input layer\n",
    "        H = np.dot(X, weights_1)  # Linear transformation to hidden layer  \n",
    "        Z = sigmoid(H)  # Activation at hidden layer\n",
    "        Z = np.hstack((Z, np.ones((Z.shape[0], 1))))  # Add bias term to hidden layer\n",
    "\n",
    "        # pre-activation of output layer\n",
    "        O = Z @ weights_2 # Linear transformation to output layer \n",
    "        y_hat = sigmoid(O) # Final output layer activation \n",
    "\n",
    "        # Compute loss (MSE) Mean squared error loss\n",
    "        loss = np.mean(0.5 * (training_y - y_hat) ** 2)\n",
    "        training_error.append(loss)\n",
    "\n",
    "        # Backpropagation\n",
    "\n",
    "        #output layer error\n",
    "        delta_O = -(training_y - y_hat) * grad_sigmoid(y_hat)\n",
    "        # grad_sigmoid(y_hat) ŷ because ŷ itself is a sigmoid function in O\n",
    "        # As grad_sigmoid takes in sigmoid activated input, ŷ is parsed instead of grad_sigmoid(O)\n",
    "        gradient2 = np.dot(Z.T, delta_O) / N # Gradient for output layer weights\n",
    "\n",
    "        # Hidden layer error\n",
    "        hidden_error_signal = delta_O @ weights_2.T # propogate error from output to hidden layer\n",
    "        delta_H = hidden_error_signal[:, :-1] * grad_sigmoid(Z[:, :-1])  # Ignore bias term\n",
    "        gradient1 = np.dot(X.T, delta_H) / N  # Gradient for hidden layer weights\n",
    "\n",
    "        # Update weights using gradient descent\n",
    "        weights_1 -= eta * gradient1\n",
    "        weights_2 -= eta * gradient2\n",
    "\n",
    "    return training_error  # Return loss values "
   ]
  },
  {
   "cell_type": "code",
   "execution_count": 13,
   "id": "9137ce50-c72c-4828-b2d9-8dd03698c7a0",
   "metadata": {},
   "outputs": [
    {
     "data": {
      "image/png": "[encoded data removed]",
      "text/plain": [
       "<Figure size 640x480 with 1 Axes>"
      ]
     },
     "metadata": {},
     "output_type": "display_data"
    }
   ],
   "source": [
    "training_error = train_nn(training_x, training_y)\n",
    "\n",
    "# for each epoch 1 to 100\n",
    "n_epochs = np.arange(max_epochs)\n",
    "\n",
    "# Plot training loss\n",
    "plt.gca().set_facecolor('black')\n",
    "plt.plot(n_epochs, training_error, color='cyan')\n",
    "plt.xlabel(\"Epochs\")\n",
    "plt.ylabel(\"Training Loss\")\n",
    "plt.title(\"Training Loss over Epochs\", fontsize=15)\n",
    "plt.show()"
   ]
  },
  {
   "cell_type": "markdown",
   "id": "8d26d75a-f112-4f7c-a115-664df77fb329",
   "metadata": {},
   "source": [
    "#\n",
    "# \"Predicting Abalone Age Using K-Nearest Neighbors\""
   ]
  },
  {
   "cell_type": "code",
   "execution_count": 14,
   "id": "d12641b5-e91f-40d0-ad89-13957102160b",
   "metadata": {},
   "outputs": [],
   "source": [
    "from sklearn.model_selection import train_test_split"
   ]
  },
  {
   "cell_type": "code",
   "execution_count": 15,
   "id": "c56a132e-d0e2-4163-a4d6-117d8f74122e",
   "metadata": {},
   "outputs": [],
   "source": [
    "url = \"https://archive.ics.uci.edu/ml/machine-learning-databases/abalone/abalone.data\""
   ]
  },
  {
   "cell_type": "code",
   "execution_count": 16,
   "id": "6e379b45-4ab7-4e50-b608-fa12105be98f",
   "metadata": {},
   "outputs": [],
   "source": [
    "abalone = pd.read_csv(url, header=None) # Load the Abalone dataset (age prediction)"
   ]
  },
  {
   "cell_type": "code",
   "execution_count": 17,
   "id": "c707c400-32d2-4e9b-ad1a-15ee619e4919",
   "metadata": {},
   "outputs": [],
   "source": [
    "# abalone # To Verify"
   ]
  },
  {
   "cell_type": "code",
   "execution_count": 18,
   "id": "281b9b73-9253-4485-a589-375ab7f5d134",
   "metadata": {},
   "outputs": [],
   "source": [
    "column_names = [\"Sex\", \"Length\", \"Diameter\", \"Height\", \"Whole weight\",\"Shucked weight\", \"Viscera weight\", \"Shell weight\", \"Rings\"]"
   ]
  },
  {
   "cell_type": "code",
   "execution_count": 19,
   "id": "9f3955ee-2df7-4e72-8e2f-fa1d6ca1663a",
   "metadata": {},
   "outputs": [],
   "source": [
    "abalone.columns = column_names"
   ]
  },
  {
   "cell_type": "code",
   "execution_count": 20,
   "id": "36f80d02-fcb2-4e84-8249-69aefaa8d258",
   "metadata": {},
   "outputs": [],
   "source": [
    "abalone = abalone.drop(columns=[\"Sex\"])"
   ]
  },
  {
   "cell_type": "code",
   "execution_count": 21,
   "id": "2587bee6-8b65-454c-ae7e-94a3933da2f5",
   "metadata": {},
   "outputs": [
    {
     "data": {
      "text/html": [
       "<div>\n",
       "<style scoped>\n",
       "    .dataframe tbody tr th:only-of-type {\n",
       "        vertical-align: middle;\n",
       "    }\n",
       "\n",
       "    .dataframe tbody tr th {\n",
       "        vertical-align: top;\n",
       "    }\n",
       "\n",
       "    .dataframe thead th {\n",
       "        text-align: right;\n",
       "    }\n",
       "</style>\n",
       "<table border=\"1\" class=\"dataframe\">\n",
       "  <thead>\n",
       "    <tr style=\"text-align: right;\">\n",
       "      <th></th>\n",
       "      <th>Length</th>\n",
       "      <th>Diameter</th>\n",
       "      <th>Height</th>\n",
       "      <th>Whole weight</th>\n",
       "      <th>Shucked weight</th>\n",
       "      <th>Viscera weight</th>\n",
       "      <th>Shell weight</th>\n",
       "      <th>Rings</th>\n",
       "    </tr>\n",
       "  </thead>\n",
       "  <tbody>\n",
       "    <tr>\n",
       "      <th>0</th>\n",
       "      <td>0.455</td>\n",
       "      <td>0.365</td>\n",
       "      <td>0.095</td>\n",
       "      <td>0.5140</td>\n",
       "      <td>0.2245</td>\n",
       "      <td>0.1010</td>\n",
       "      <td>0.150</td>\n",
       "      <td>15</td>\n",
       "    </tr>\n",
       "    <tr>\n",
       "      <th>1</th>\n",
       "      <td>0.350</td>\n",
       "      <td>0.265</td>\n",
       "      <td>0.090</td>\n",
       "      <td>0.2255</td>\n",
       "      <td>0.0995</td>\n",
       "      <td>0.0485</td>\n",
       "      <td>0.070</td>\n",
       "      <td>7</td>\n",
       "    </tr>\n",
       "    <tr>\n",
       "      <th>2</th>\n",
       "      <td>0.530</td>\n",
       "      <td>0.420</td>\n",
       "      <td>0.135</td>\n",
       "      <td>0.6770</td>\n",
       "      <td>0.2565</td>\n",
       "      <td>0.1415</td>\n",
       "      <td>0.210</td>\n",
       "      <td>9</td>\n",
       "    </tr>\n",
       "    <tr>\n",
       "      <th>3</th>\n",
       "      <td>0.440</td>\n",
       "      <td>0.365</td>\n",
       "      <td>0.125</td>\n",
       "      <td>0.5160</td>\n",
       "      <td>0.2155</td>\n",
       "      <td>0.1140</td>\n",
       "      <td>0.155</td>\n",
       "      <td>10</td>\n",
       "    </tr>\n",
       "    <tr>\n",
       "      <th>4</th>\n",
       "      <td>0.330</td>\n",
       "      <td>0.255</td>\n",
       "      <td>0.080</td>\n",
       "      <td>0.2050</td>\n",
       "      <td>0.0895</td>\n",
       "      <td>0.0395</td>\n",
       "      <td>0.055</td>\n",
       "      <td>7</td>\n",
       "    </tr>\n",
       "  </tbody>\n",
       "</table>\n",
       "</div>"
      ],
      "text/plain": [
       "   Length  Diameter  Height  Whole weight  Shucked weight  Viscera weight  \\\n",
       "0   0.455     0.365   0.095        0.5140          0.2245          0.1010   \n",
       "1   0.350     0.265   0.090        0.2255          0.0995          0.0485   \n",
       "2   0.530     0.420   0.135        0.6770          0.2565          0.1415   \n",
       "3   0.440     0.365   0.125        0.5160          0.2155          0.1140   \n",
       "4   0.330     0.255   0.080        0.2050          0.0895          0.0395   \n",
       "\n",
       "   Shell weight  Rings  \n",
       "0         0.150     15  \n",
       "1         0.070      7  \n",
       "2         0.210      9  \n",
       "3         0.155     10  \n",
       "4         0.055      7  "
      ]
     },
     "execution_count": 21,
     "metadata": {},
     "output_type": "execute_result"
    }
   ],
   "source": [
    "abalone.head() # To verify"
   ]
  },
  {
   "cell_type": "code",
   "execution_count": 22,
   "id": "298775ac-8cd7-4cf7-b3ec-e1d70c1323f4",
   "metadata": {},
   "outputs": [],
   "source": [
    "y = abalone[\"Rings\"].values # Age of Abalone, kinda like countimg tree rings\n",
    "# or ring_columns = abalone.loc[:, \"Rings\"])\n",
    "X = abalone.drop(columns=[\"Rings\"]).values # Feature matrix"
   ]
  },
  {
   "cell_type": "code",
   "execution_count": 23,
   "id": "0970060b-28f0-4d97-bb94-2bb5353db984",
   "metadata": {},
   "outputs": [],
   "source": [
    "# Split into training and testing sets (featues & target)\n",
    "X_train, X_test, y_train, y_test = train_test_split(X, y, test_size=0.3, random_state=333)"
   ]
  },
  {
   "cell_type": "code",
   "execution_count": 24,
   "id": "47dcf835-41b3-4559-8ef8-1b24317ce001",
   "metadata": {},
   "outputs": [],
   "source": [
    "y_train = np.array(y_train)\n",
    "y_test = np.array(y_test)"
   ]
  },
  {
   "cell_type": "code",
   "execution_count": 25,
   "id": "98a9fc10-0eb0-4c20-abc1-0e1211c5c3ae",
   "metadata": {},
   "outputs": [],
   "source": [
    "def mean_squared_error(actual_y, predicted_y):\n",
    "    \"\"\"\n",
    "    Computes (MSE)\n",
    "    \"\"\"\n",
    "    return np.mean((actual_y - predicted_y) ** 2)"
   ]
  },
  {
   "cell_type": "code",
   "execution_count": 26,
   "id": "4bcbdfc1-256d-496e-a5de-1c92254027a6",
   "metadata": {},
   "outputs": [],
   "source": [
    "def compute_mode(arr):\n",
    "    \"\"\"\n",
    "    computes the mode using NumPy\n",
    "    \"\"\"\n",
    "    # np.random.seed(0)\n",
    "    counts = np.bincount(arr)  # Count occurrences of each value\n",
    "    max_count = np.max(counts)  # Find the highest frequency\n",
    "    mode_values = np.where(counts == max_count)[0]  # Find all values with max frequency\n",
    "    \n",
    "    # If multiple modes exist, choose randomly\n",
    "    predicted_age = np.random.choice(mode_values) if len(mode_values) > 1 else mode_values[0]\n",
    "    # print(predicted_age)\n",
    "\n",
    "    return predicted_age"
   ]
  },
  {
   "cell_type": "code",
   "execution_count": 27,
   "id": "38c0817b-afa5-4261-8bdc-699eaee02bae",
   "metadata": {},
   "outputs": [],
   "source": [
    "def knn_predict(X_train, y_train, test_point, k):\n",
    "    \"\"\"\n",
    "    Predict age using k-Nearest Neighbors\n",
    "    \"\"\"\n",
    "    distances = np.linalg.norm(X_train - test_point, axis=1)  # Compute Euclidean distances\n",
    "    nearest_neighbors = np.argsort(distances)[:k]  # Select k nearest neighbors \n",
    "    neighbor_ages = y_train[nearest_neighbors]  # Get corresponding ages\n",
    "    return compute_mode(neighbor_ages)  # Predict the most common age"
   ]
  },
  {
   "cell_type": "markdown",
   "id": "f766b589-c58d-49b2-9a70-b79319e079f1",
   "metadata": {},
   "source": [
    "## **New abalone data**\n",
    "$$\n",
    "\\begin{array}{|c|c|}\n",
    "    \\hline\n",
    "    \\textbf{Variable} & \\textbf{Value} \\\\\n",
    "    \\hline\n",
    "    \\text{Length} & 0.569552 \\\\\n",
    "    \\text{Diameter} & 0.446407 \\\\\n",
    "    \\text{Height} & 0.154437 \\\\\n",
    "    \\text{Whole weight} & 1.016849 \\\\\n",
    "    \\text{Shucked weight} & 0.439051 \\\\\n",
    "    \\text{Viscera weight} & 0.222526 \\\\\n",
    "    \\text{Shell weight} & 0.291208 \\\\\n",
    "    \\hline\n",
    "\\end{array}\n",
    "$$\n"
   ]
  },
  {
   "cell_type": "code",
   "execution_count": 28,
   "id": "3fe80d22-0a42-45c1-8c49-8773a1d61dbf",
   "metadata": {},
   "outputs": [
    {
     "name": "stdout",
     "output_type": "stream",
     "text": [
      "Predicted age of the new abalone: 11\n"
     ]
    }
   ],
   "source": [
    "new_abalone = np.array(([0.569552, 0.446407, 0.154437, 1.016849, 0.439051, 0.222526, 0.291208]))\n",
    "predicted_age = knn_predict(X_train, y_train, new_abalone, k=3)\n",
    "print(f\"Predicted age of the new abalone: {predicted_age}\")"
   ]
  },
  {
   "cell_type": "markdown",
   "id": "6fe248c2-6835-4714-b123-8d62f098f454",
   "metadata": {},
   "source": [
    "# _For the Entire DataSet_"
   ]
  },
  {
   "cell_type": "code",
   "execution_count": 29,
   "id": "5ddc0506-3486-4cc2-91b4-4c524219bb96",
   "metadata": {},
   "outputs": [
    {
     "name": "stdout",
     "output_type": "stream",
     "text": [
      "Mean Squared Error (MSE) on test set: 7.8533\n",
      "\n"
     ]
    }
   ],
   "source": [
    "mse_values = []\n",
    "\n",
    "k_range = range(1, 51)\n",
    "\n",
    "for k in k_range:\n",
    "    \n",
    "    predicted_ages_test = [knn_predict(X_train, y_train, test_point, k) for test_point in X_test]\n",
    "    MSE = mean_squared_error(y_test, np.array(predicted_ages_test))\n",
    "    mse_values.append(MSE)\n",
    "\n",
    "    if k == 3:\n",
    "        print(f\"Mean Squared Error (MSE) on test set: {MSE:.4f}\\n\")"
   ]
  },
  {
   "cell_type": "code",
   "execution_count": 30,
   "id": "ea1f7e2d-4fe7-48a7-8221-a2e71f158416",
   "metadata": {},
   "outputs": [
    {
     "data": {
      "image/png": "[encoded data removed]",
      "text/plain": [
       "<Figure size 640x480 with 1 Axes>"
      ]
     },
     "metadata": {},
     "output_type": "display_data"
    }
   ],
   "source": [
    "# Plot MSE vs k\n",
    "plt.gca().set_facecolor('black')\n",
    "plt.plot(k_range, mse_values, color='cyan')\n",
    "plt.xlabel('k')\n",
    "plt.ylabel('Mean Squred Error')\n",
    "plt.title('MSE vs k in k-NN', fontsize=15)\n",
    "plt.show()"
   ]
  },
  {
   "cell_type": "code",
   "execution_count": 31,
   "id": "5998acef-42f0-4447-a491-0633be3d84ee",
   "metadata": {},
   "outputs": [
    {
     "name": "stdout",
     "output_type": "stream",
     "text": [
      "Optimal k: 20, Optimal MSE: 6.0152\n"
     ]
    }
   ],
   "source": [
    "# Find optimal k\n",
    "best_k = np.argmin(mse_values) + 1  # Adding 1 since index starts at 0\n",
    "best_mse = mse_values[best_k - 1]\n",
    "print(f\"Optimal k: {best_k}, Optimal MSE: {best_mse:.4f}\")"
   ]
  },
  {
   "cell_type": "code",
   "execution_count": 32,
   "id": "cdfde9e1-560f-4628-a3a2-e68d7a9c33b7",
   "metadata": {},
   "outputs": [],
   "source": [
    "# # If multiple k values have the same optimal MSE, pick one randomly\n",
    "# optimal_k_values = [i+1 for i, mse in enumerate(mse_values) if mse == best_mse]\n",
    "# if len(optimal_k_values) > 1:\n",
    "#     chosen_k = np.random.choice(optimal_k_values)\n",
    "#     print(f\"Randomly chosen optimal k: {chosen_k}\")"
   ]
  },
  {
   "cell_type": "markdown",
   "id": "8a044d6e-6760-4719-b290-3497a6f07739",
   "metadata": {},
   "source": [
    "## optimal_k is (random) because of the randomness in selection"
   ]
  },
  {
   "cell_type": "code",
   "execution_count": null,
   "id": "9a085dfb-11b7-45b2-a539-95d2955f7dbf",
   "metadata": {},
   "outputs": [],
   "source": []
  },
  {
   "cell_type": "code",
   "execution_count": null,
   "id": "559b26b2-741f-4d41-8031-6e9113c3df66",
   "metadata": {},
   "outputs": [],
   "source": []
  },
  {
   "cell_type": "code",
   "execution_count": null,
   "id": "bdad3bea-81cc-489d-b005-3a94fd40caad",
   "metadata": {},
   "outputs": [],
   "source": []
  }
 ],
 "metadata": {
  "kernelspec": {
   "display_name": "Python 3 (ipykernel)",
   "language": "python",
   "name": "python3"
  },
  "language_info": {
   "codemirror_mode": {
    "name": "ipython",
    "version": 3
   },
   "file_extension": ".py",
   "mimetype": "text/x-python",
   "name": "python",
   "nbconvert_exporter": "python",
   "pygments_lexer": "ipython3",
   "version": "3.12.2"
  }
 },
 "nbformat": 4,
 "nbformat_minor": 5
}
